{
 "cells": [
  {
   "cell_type": "code",
   "execution_count": 1,
   "id": "826d05b9",
   "metadata": {},
   "outputs": [],
   "source": [
    "# Create a smol agent does the has access to the following tools\n",
    "# Read metadata about the dataset\n",
    "# Read a sample of the dataset and produce some summary statistics\n",
    "# Produce an R script to preprocess the data\n",
    "# Execute the R script and the return the stdout and stderr\n",
    "# The agent should be able to call these tools in a sequence to achieve the goal of understanding the dataset and preparing it for analysis.\n",
    "\n",
    "# Extra can we look at integrating langfuse for tracking?"
   ]
  },
  {
   "cell_type": "code",
   "execution_count": 2,
   "id": "2dc0dd1c",
   "metadata": {},
   "outputs": [
    {
     "name": "stdout",
     "output_type": "stream",
     "text": [
      "Reading metadata...\n",
      "Found 2 occurrence(s) of '['W9CLENDYR']' in 1 merged chunk(s):\n",
      "\n",
      "\n",
      "\n",
      "==================================================lue = 3.0\tLabel = March\n",
      "\tValue = 4.0\tLabel = April\n",
      "\tValue = 5.0\tLabel = May\n",
      "\tValue = 6.0\tLabel = June\n",
      "\tValue = 7.0\tLabel = July\n",
      "\tValue = 8.0\tLabel = August\n",
      "\tValue = 9.0\tLabel = September\n",
      "\tValue = 10.0\tLabel = October\n",
      "\tValue = 11.0\tLabel = November\n",
      "\tValue = 12.0\tLabel = December\n",
      "\n",
      "Pos. = 6\tVariable = W9CLENDYR\tVariable label = When period of economic activity ended - year\n",
      "This variable is  numeric, the SPSS measurement level is SCALE\n",
      "SPSS user missing values = -9.0 thru -1.0\n",
      "\tValue label information for W9CLENDYR\n",
      "\tValue = -9.0\tLabel = Refused\n",
      "\tValue = -8.0\tLabel = Don't know\n",
      "\tValue = -3.0\tLabel = Not asked at fieldwork stage\n",
      "\tValue = -1.0\tLabel = Not applicable\n",
      "\n",
      "Pos. = 7\tVariable = W9CLSEMPCHK\tVariable label = Recorded period of economic activity ended before stopping previous activity\n",
      "This variable is  num\n",
      "Reading sample and summarizing...\n",
      "Summary statistics:\n",
      "         W9CLENDYR\n",
      "count    20.000000\n",
      "mean   2017.100000\n",
      "std       3.754296\n",
      "min    2009.000000\n",
      "25%    2014.750000\n",
      "50%    2017.000000\n",
      "75%    2020.000000\n",
      "max    2022.000000\n",
      "\n",
      "Sample:\n",
      "   W9CLENDYR\n",
      "0       2020\n",
      "1       2020\n",
      "2       2015\n",
      "3       2018\n",
      "4       2011\n",
      "Producing and executing R script...\n",
      "STDOUT:\n",
      "[1] \"Hello, World!\"\n",
      "\n",
      "\n",
      "STDERR:\n",
      "\n"
     ]
    }
   ],
   "source": [
    "from smolagents import tool\n",
    "from striprtf.striprtf import rtf_to_text\n",
    "\n",
    "@tool\n",
    "def read_metadata(filename: str, columns: list[str]) -> str:\n",
    "    \"\"\"Read the corresponding metadata of a file and return its contents as a string.\n",
    "    \n",
    "        Args:\n",
    "        filename: The name of the metadata file to read (without path).\n",
    "        columns: The list of columns to search for in the metadata.\n",
    "    \"\"\"\n",
    "    \n",
    "    # first assert there is an rtf extension\n",
    "    if not filename.endswith('.rtf'):\n",
    "        raise ValueError(\"Metadata file must be an RTF file with .rtf extension.\")\n",
    "\n",
    "    with open(filename, 'r') as file:\n",
    "        metadata = file.read()\n",
    "    plain_text = rtf_to_text(metadata)\n",
    "\n",
    "    ## Search text for variable name and return the surrounding context\n",
    "    if columns:\n",
    "        import re\n",
    "\n",
    "        # Find all occurrences of the variable name (case insensitive)\n",
    "        matches = []\n",
    "        padding = 300\n",
    "        \n",
    "        for variable_name in columns:\n",
    "            for match in re.finditer(re.escape(variable_name), plain_text, re.IGNORECASE):\n",
    "                start_pos = match.start()\n",
    "                end_pos = match.end()\n",
    "                \n",
    "                # Get characters before and after the match\n",
    "                context_start = max(0, start_pos - padding)\n",
    "                context_end = min(len(plain_text), end_pos + padding)\n",
    "                \n",
    "                matches.append((context_start, context_end))\n",
    "        \n",
    "        if not matches:\n",
    "            return f\"Variable name '{variable_name}' not found in metadata.\"\n",
    "        \n",
    "        # Merge overlapping ranges\n",
    "        merged_ranges = []\n",
    "        matches.sort()  # Sort by start position\n",
    "        \n",
    "        for start, end in matches:\n",
    "            if merged_ranges and start <= merged_ranges[-1][1]:\n",
    "\n",
    "                # Overlapping or adjacent - merge with the last range\n",
    "                merged_ranges[-1] = (merged_ranges[-1][0], max(merged_ranges[-1][1], end))\n",
    "            else:\n",
    "                # No overlap - add as new range\n",
    "                merged_ranges.append((start, end))\n",
    "        \n",
    "        # Extract text from merged ranges\n",
    "        contexts = []\n",
    "        for start, end in merged_ranges:\n",
    "            context = plain_text[start:end]\n",
    "            contexts.append(context)\n",
    "        \n",
    "        return f\"Found {len(matches)} occurrence(s) of '{columns}' in {len(contexts)} merged chunk(s):\\n\\n\" + \"\\n\\n\" + \"=\"*50 + \"\\n\\n\".join(contexts)\n",
    "\n",
    "    return plain_text\n",
    "\n",
    "@tool\n",
    "def read_sample_and_summarise(filename: str, columns: list[str]) -> str:\n",
    "    \"\"\"Reads a sample of the dataset and produce some summary statistics.\n",
    "    \n",
    "        Args:\n",
    "        filename: The name of the data file to read.\n",
    "        columns: The list of columns to summarise.\n",
    "    \"\"\" \n",
    "    import pandas as pd\n",
    "\n",
    "    df = pd.read_csv(filename, sep=\"\\t\")\n",
    "    \n",
    "    sample = df[columns].head(5).to_string()\n",
    "\n",
    "    # Get summary statistics\n",
    "    summary = df[columns].describe(include='all').to_string()\n",
    "    \n",
    "    return f\"Summary statistics:\\n{summary}\\n\\nSample:\\n{sample}\"\n",
    "\n",
    "@tool\n",
    "def produce_r_script(rscript: str) -> str:\n",
    "    \"\"\"Produce an executable R script and write and execute the r script returning stdout and stderr.\n",
    "        \n",
    "        Args:\n",
    "        rscript: The rscript to execute. This should be correct R.\n",
    "    \"\"\"\n",
    "    import subprocess\n",
    "    \n",
    "    # Write the R script to a file\n",
    "    rscript_filename = \"preprocess_data.R\"\n",
    "    with open(rscript_filename, 'w') as file:\n",
    "        file.write(rscript)\n",
    "    \n",
    "    # Execute the R script and capture stdout and stderr\n",
    "    result = subprocess.run(['Rscript', rscript_filename], capture_output=True, text=True)\n",
    "    \n",
    "    return f\"STDOUT:\\n{result.stdout}\\n\\nSTDERR:\\n{result.stderr}\"\n",
    "\n",
    "# Example usage\n",
    "filename = \"metadata.rtf\"\n",
    "print(\"Reading metadata...\")\n",
    "metadata = read_metadata(filename, [\"W9CLENDYR\"])\n",
    "print(metadata)\n",
    "\n",
    "print(\"Reading sample and summarizing...\")\n",
    "filename = \"sample_data.tab\"\n",
    "sample_summary = read_sample_and_summarise(filename, [\"W9CLENDYR\"])\n",
    "print(sample_summary)\n",
    "\n",
    "print(\"Producing and executing R script...\")\n",
    "rscript = \"\"\"\n",
    "# Example hello world R script\n",
    "print(\"Hello, World!\")\n",
    "\"\"\"\n",
    "rscript_output = produce_r_script(rscript)\n",
    "print(rscript_output)"
   ]
  },
  {
   "cell_type": "code",
   "execution_count": null,
   "id": "024159a0",
   "metadata": {},
   "outputs": [
    {
     "data": {
      "text/html": [
       "<pre style=\"white-space:pre;overflow-x:auto;line-height:normal;font-family:Menlo,'DejaVu Sans Mono',consolas,'Courier New',monospace\"><span style=\"color: #d4b702; text-decoration-color: #d4b702\">╭──────────────────────────────────────────────────── </span><span style=\"color: #d4b702; text-decoration-color: #d4b702; font-weight: bold\">New run</span><span style=\"color: #d4b702; text-decoration-color: #d4b702\"> ────────────────────────────────────────────────────╮</span>\n",
       "<span style=\"color: #d4b702; text-decoration-color: #d4b702\">│</span>                                                                                                                 <span style=\"color: #d4b702; text-decoration-color: #d4b702\">│</span>\n",
       "<span style=\"color: #d4b702; text-decoration-color: #d4b702\">│</span> <span style=\"font-weight: bold\">Your task is preprocess the dataset so that it is clean and ready for epidemiological analysis.</span>                 <span style=\"color: #d4b702; text-decoration-color: #d4b702\">│</span>\n",
       "<span style=\"color: #d4b702; text-decoration-color: #d4b702\">│</span>                                                                                                                 <span style=\"color: #d4b702; text-decoration-color: #d4b702\">│</span>\n",
       "<span style=\"color: #d4b702; text-decoration-color: #d4b702\">│</span> <span style=\"font-weight: bold\">The dataset can be found in the file 'sample_data.tab'.</span>                                                         <span style=\"color: #d4b702; text-decoration-color: #d4b702\">│</span>\n",
       "<span style=\"color: #d4b702; text-decoration-color: #d4b702\">│</span>                                                                                                                 <span style=\"color: #d4b702; text-decoration-color: #d4b702\">│</span>\n",
       "<span style=\"color: #d4b702; text-decoration-color: #d4b702\">│</span> <span style=\"font-weight: bold\">And the metadata can be found in the file 'metadata.rtf'.</span>                                                       <span style=\"color: #d4b702; text-decoration-color: #d4b702\">│</span>\n",
       "<span style=\"color: #d4b702; text-decoration-color: #d4b702\">│</span>                                                                                                                 <span style=\"color: #d4b702; text-decoration-color: #d4b702\">│</span>\n",
       "<span style=\"color: #d4b702; text-decoration-color: #d4b702\">│</span> <span style=\"font-weight: bold\">I want the R script to do the following:</span>                                                                        <span style=\"color: #d4b702; text-decoration-color: #d4b702\">│</span>\n",
       "<span style=\"color: #d4b702; text-decoration-color: #d4b702\">│</span>                                                                                                                 <span style=\"color: #d4b702; text-decoration-color: #d4b702\">│</span>\n",
       "<span style=\"color: #d4b702; text-decoration-color: #d4b702\">│</span> <span style=\"font-weight: bold\">- Only preprocess the columns \"['W9CLENDYR'\\]\". </span>                                                                <span style=\"color: #d4b702; text-decoration-color: #d4b702\">│</span>\n",
       "<span style=\"color: #d4b702; text-decoration-color: #d4b702\">│</span> <span style=\"font-weight: bold\">- Use only base R functions</span>                                                                                     <span style=\"color: #d4b702; text-decoration-color: #d4b702\">│</span>\n",
       "<span style=\"color: #d4b702; text-decoration-color: #d4b702\">│</span> <span style=\"font-weight: bold\">- Include installs for all required packages</span>                                                                    <span style=\"color: #d4b702; text-decoration-color: #d4b702\">│</span>\n",
       "<span style=\"color: #d4b702; text-decoration-color: #d4b702\">│</span> <span style=\"font-weight: bold\">- Saves the cleaned data to a new file called 'clean_{filename}'.</span>                                               <span style=\"color: #d4b702; text-decoration-color: #d4b702\">│</span>\n",
       "<span style=\"color: #d4b702; text-decoration-color: #d4b702\">│</span>                                                                                                                 <span style=\"color: #d4b702; text-decoration-color: #d4b702\">│</span>\n",
       "<span style=\"color: #d4b702; text-decoration-color: #d4b702\">│</span> <span style=\"font-weight: bold\">The script should look like this:</span>                                                                               <span style=\"color: #d4b702; text-decoration-color: #d4b702\">│</span>\n",
       "<span style=\"color: #d4b702; text-decoration-color: #d4b702\">│</span> <span style=\"font-weight: bold\"># imports</span>                                                                                                       <span style=\"color: #d4b702; text-decoration-color: #d4b702\">│</span>\n",
       "<span style=\"color: #d4b702; text-decoration-color: #d4b702\">│</span> <span style=\"font-weight: bold\">```all imports here```</span>                                                                                          <span style=\"color: #d4b702; text-decoration-color: #d4b702\">│</span>\n",
       "<span style=\"color: #d4b702; text-decoration-color: #d4b702\">│</span> <span style=\"font-weight: bold\"># data cleaning steps</span>                                                                                           <span style=\"color: #d4b702; text-decoration-color: #d4b702\">│</span>\n",
       "<span style=\"color: #d4b702; text-decoration-color: #d4b702\">│</span> <span style=\"font-weight: bold\">```all data cleaning steps here```</span>                                                                              <span style=\"color: #d4b702; text-decoration-color: #d4b702\">│</span>\n",
       "<span style=\"color: #d4b702; text-decoration-color: #d4b702\">│</span> <span style=\"font-weight: bold\"># save cleaned data</span>                                                                                             <span style=\"color: #d4b702; text-decoration-color: #d4b702\">│</span>\n",
       "<span style=\"color: #d4b702; text-decoration-color: #d4b702\">│</span> <span style=\"font-weight: bold\">```all data saving steps here```</span>                                                                                <span style=\"color: #d4b702; text-decoration-color: #d4b702\">│</span>\n",
       "<span style=\"color: #d4b702; text-decoration-color: #d4b702\">│</span>                                                                                                                 <span style=\"color: #d4b702; text-decoration-color: #d4b702\">│</span>\n",
       "<span style=\"color: #d4b702; text-decoration-color: #d4b702\">│</span>                                                                                                                 <span style=\"color: #d4b702; text-decoration-color: #d4b702\">│</span>\n",
       "<span style=\"color: #d4b702; text-decoration-color: #d4b702\">│</span> <span style=\"font-weight: bold\">IMPORTANT: sample the data and read the metadata to inform how you preprocess the data giving the column a new </span> <span style=\"color: #d4b702; text-decoration-color: #d4b702\">│</span>\n",
       "<span style=\"color: #d4b702; text-decoration-color: #d4b702\">│</span> <span style=\"font-weight: bold\">and more useful name.</span>                                                                                           <span style=\"color: #d4b702; text-decoration-color: #d4b702\">│</span>\n",
       "<span style=\"color: #d4b702; text-decoration-color: #d4b702\">│</span>                                                                                                                 <span style=\"color: #d4b702; text-decoration-color: #d4b702\">│</span>\n",
       "<span style=\"color: #d4b702; text-decoration-color: #d4b702\">│</span> <span style=\"font-weight: bold\">If the R script has errors fix them and re-run the script until it runs without error.</span>                          <span style=\"color: #d4b702; text-decoration-color: #d4b702\">│</span>\n",
       "<span style=\"color: #d4b702; text-decoration-color: #d4b702\">│</span>                                                                                                                 <span style=\"color: #d4b702; text-decoration-color: #d4b702\">│</span>\n",
       "<span style=\"color: #d4b702; text-decoration-color: #d4b702\">╰─ LiteLLMModel - ollama_chat/gemma3:12b ─────────────────────────────────────────────────────────────────────────╯</span>\n",
       "</pre>\n"
      ],
      "text/plain": [
       "\u001b[38;2;212;183;2m╭─\u001b[0m\u001b[38;2;212;183;2m───────────────────────────────────────────────────\u001b[0m\u001b[38;2;212;183;2m \u001b[0m\u001b[1;38;2;212;183;2mNew run\u001b[0m\u001b[38;2;212;183;2m \u001b[0m\u001b[38;2;212;183;2m───────────────────────────────────────────────────\u001b[0m\u001b[38;2;212;183;2m─╮\u001b[0m\n",
       "\u001b[38;2;212;183;2m│\u001b[0m                                                                                                                 \u001b[38;2;212;183;2m│\u001b[0m\n",
       "\u001b[38;2;212;183;2m│\u001b[0m \u001b[1mYour task is preprocess the dataset so that it is clean and ready for epidemiological analysis.\u001b[0m                 \u001b[38;2;212;183;2m│\u001b[0m\n",
       "\u001b[38;2;212;183;2m│\u001b[0m                                                                                                                 \u001b[38;2;212;183;2m│\u001b[0m\n",
       "\u001b[38;2;212;183;2m│\u001b[0m \u001b[1mThe dataset can be found in the file 'sample_data.tab'.\u001b[0m                                                         \u001b[38;2;212;183;2m│\u001b[0m\n",
       "\u001b[38;2;212;183;2m│\u001b[0m                                                                                                                 \u001b[38;2;212;183;2m│\u001b[0m\n",
       "\u001b[38;2;212;183;2m│\u001b[0m \u001b[1mAnd the metadata can be found in the file 'metadata.rtf'.\u001b[0m                                                       \u001b[38;2;212;183;2m│\u001b[0m\n",
       "\u001b[38;2;212;183;2m│\u001b[0m                                                                                                                 \u001b[38;2;212;183;2m│\u001b[0m\n",
       "\u001b[38;2;212;183;2m│\u001b[0m \u001b[1mI want the R script to do the following:\u001b[0m                                                                        \u001b[38;2;212;183;2m│\u001b[0m\n",
       "\u001b[38;2;212;183;2m│\u001b[0m                                                                                                                 \u001b[38;2;212;183;2m│\u001b[0m\n",
       "\u001b[38;2;212;183;2m│\u001b[0m \u001b[1m- Only preprocess the columns \"['W9CLENDYR'\\]\". \u001b[0m                                                                \u001b[38;2;212;183;2m│\u001b[0m\n",
       "\u001b[38;2;212;183;2m│\u001b[0m \u001b[1m- Use only base R functions\u001b[0m                                                                                     \u001b[38;2;212;183;2m│\u001b[0m\n",
       "\u001b[38;2;212;183;2m│\u001b[0m \u001b[1m- Include installs for all required packages\u001b[0m                                                                    \u001b[38;2;212;183;2m│\u001b[0m\n",
       "\u001b[38;2;212;183;2m│\u001b[0m \u001b[1m- Saves the cleaned data to a new file called 'clean_{filename}'.\u001b[0m                                               \u001b[38;2;212;183;2m│\u001b[0m\n",
       "\u001b[38;2;212;183;2m│\u001b[0m                                                                                                                 \u001b[38;2;212;183;2m│\u001b[0m\n",
       "\u001b[38;2;212;183;2m│\u001b[0m \u001b[1mThe script should look like this:\u001b[0m                                                                               \u001b[38;2;212;183;2m│\u001b[0m\n",
       "\u001b[38;2;212;183;2m│\u001b[0m \u001b[1m# imports\u001b[0m                                                                                                       \u001b[38;2;212;183;2m│\u001b[0m\n",
       "\u001b[38;2;212;183;2m│\u001b[0m \u001b[1m```all imports here```\u001b[0m                                                                                          \u001b[38;2;212;183;2m│\u001b[0m\n",
       "\u001b[38;2;212;183;2m│\u001b[0m \u001b[1m# data cleaning steps\u001b[0m                                                                                           \u001b[38;2;212;183;2m│\u001b[0m\n",
       "\u001b[38;2;212;183;2m│\u001b[0m \u001b[1m```all data cleaning steps here```\u001b[0m                                                                              \u001b[38;2;212;183;2m│\u001b[0m\n",
       "\u001b[38;2;212;183;2m│\u001b[0m \u001b[1m# save cleaned data\u001b[0m                                                                                             \u001b[38;2;212;183;2m│\u001b[0m\n",
       "\u001b[38;2;212;183;2m│\u001b[0m \u001b[1m```all data saving steps here```\u001b[0m                                                                                \u001b[38;2;212;183;2m│\u001b[0m\n",
       "\u001b[38;2;212;183;2m│\u001b[0m                                                                                                                 \u001b[38;2;212;183;2m│\u001b[0m\n",
       "\u001b[38;2;212;183;2m│\u001b[0m                                                                                                                 \u001b[38;2;212;183;2m│\u001b[0m\n",
       "\u001b[38;2;212;183;2m│\u001b[0m \u001b[1mIMPORTANT: sample the data and read the metadata to inform how you preprocess the data giving the column a new \u001b[0m \u001b[38;2;212;183;2m│\u001b[0m\n",
       "\u001b[38;2;212;183;2m│\u001b[0m \u001b[1mand more useful name.\u001b[0m                                                                                           \u001b[38;2;212;183;2m│\u001b[0m\n",
       "\u001b[38;2;212;183;2m│\u001b[0m                                                                                                                 \u001b[38;2;212;183;2m│\u001b[0m\n",
       "\u001b[38;2;212;183;2m│\u001b[0m \u001b[1mIf the R script has errors fix them and re-run the script until it runs without error.\u001b[0m                          \u001b[38;2;212;183;2m│\u001b[0m\n",
       "\u001b[38;2;212;183;2m│\u001b[0m                                                                                                                 \u001b[38;2;212;183;2m│\u001b[0m\n",
       "\u001b[38;2;212;183;2m╰─\u001b[0m\u001b[38;2;212;183;2m LiteLLMModel - ollama_chat/gemma3:12b \u001b[0m\u001b[38;2;212;183;2m────────────────────────────────────────────────────────────────────────\u001b[0m\u001b[38;2;212;183;2m─╯\u001b[0m\n"
      ]
     },
     "metadata": {},
     "output_type": "display_data"
    },
    {
     "data": {
      "text/html": [
       "<pre style=\"white-space:pre;overflow-x:auto;line-height:normal;font-family:Menlo,'DejaVu Sans Mono',consolas,'Courier New',monospace\"><span style=\"color: #d4b702; text-decoration-color: #d4b702\">━━━━━━━━━━━━━━━━━━━━━━━━━━━━━━━━━━━━━━━━━━━━━━━━━━━━━ </span><span style=\"font-weight: bold\">Step 1</span><span style=\"color: #d4b702; text-decoration-color: #d4b702\"> ━━━━━━━━━━━━━━━━━━━━━━━━━━━━━━━━━━━━━━━━━━━━━━━━━━━━━━</span>\n",
       "</pre>\n"
      ],
      "text/plain": [
       "\u001b[38;2;212;183;2m━━━━━━━━━━━━━━━━━━━━━━━━━━━━━━━━━━━━━━━━━━━━━━━━━━━━━ \u001b[0m\u001b[1mStep 1\u001b[0m\u001b[38;2;212;183;2m ━━━━━━━━━━━━━━━━━━━━━━━━━━━━━━━━━━━━━━━━━━━━━━━━━━━━━━\u001b[0m\n"
      ]
     },
     "metadata": {},
     "output_type": "display_data"
    },
    {
     "data": {
      "application/vnd.jupyter.widget-view+json": {
       "model_id": "3dbff4b47aa34ab28b68ab6012376e56",
       "version_major": 2,
       "version_minor": 0
      },
      "text/plain": [
       "Output()"
      ]
     },
     "metadata": {},
     "output_type": "display_data"
    },
    {
     "data": {
      "text/html": [
       "<pre style=\"white-space:pre;overflow-x:auto;line-height:normal;font-family:Menlo,'DejaVu Sans Mono',consolas,'Courier New',monospace\"></pre>\n"
      ],
      "text/plain": []
     },
     "metadata": {},
     "output_type": "display_data"
    },
    {
     "data": {
      "text/html": [
       "<pre style=\"white-space:pre;overflow-x:auto;line-height:normal;font-family:Menlo,'DejaVu Sans Mono',consolas,'Courier New',monospace\">╭─────────────────────────────────────────────────────────────────────────────────────────────────────────────────╮\n",
       "│ Calling tool: 'read_metadata' with arguments: {'filename': 'metadata.rtf', 'columns': ['column_names',          │\n",
       "│ 'column_description']}                                                                                          │\n",
       "╰─────────────────────────────────────────────────────────────────────────────────────────────────────────────────╯\n",
       "</pre>\n"
      ],
      "text/plain": [
       "╭─────────────────────────────────────────────────────────────────────────────────────────────────────────────────╮\n",
       "│ Calling tool: 'read_metadata' with arguments: {'filename': 'metadata.rtf', 'columns': ['column_names',          │\n",
       "│ 'column_description']}                                                                                          │\n",
       "╰─────────────────────────────────────────────────────────────────────────────────────────────────────────────────╯\n"
      ]
     },
     "metadata": {},
     "output_type": "display_data"
    },
    {
     "data": {
      "text/html": [
       "<pre style=\"white-space:pre;overflow-x:auto;line-height:normal;font-family:Menlo,'DejaVu Sans Mono',consolas,'Courier New',monospace\">Observations: Variable name 'column_description' not found in metadata.\n",
       "</pre>\n"
      ],
      "text/plain": [
       "Observations: Variable name 'column_description' not found in metadata.\n"
      ]
     },
     "metadata": {},
     "output_type": "display_data"
    },
    {
     "data": {
      "text/html": [
       "<pre style=\"white-space:pre;overflow-x:auto;line-height:normal;font-family:Menlo,'DejaVu Sans Mono',consolas,'Courier New',monospace\"><span style=\"color: #7f7f7f; text-decoration-color: #7f7f7f\">[Step 1: Duration 30.65 seconds| Input tokens: 1,799 | Output tokens: 35]</span>\n",
       "</pre>\n"
      ],
      "text/plain": [
       "\u001b[2m[Step 1: Duration 30.65 seconds| Input tokens: 1,799 | Output tokens: 35]\u001b[0m\n"
      ]
     },
     "metadata": {},
     "output_type": "display_data"
    },
    {
     "data": {
      "text/html": [
       "<pre style=\"white-space:pre;overflow-x:auto;line-height:normal;font-family:Menlo,'DejaVu Sans Mono',consolas,'Courier New',monospace\"><span style=\"color: #d4b702; text-decoration-color: #d4b702\">━━━━━━━━━━━━━━━━━━━━━━━━━━━━━━━━━━━━━━━━━━━━━━━━━━━━━ </span><span style=\"font-weight: bold\">Step 2</span><span style=\"color: #d4b702; text-decoration-color: #d4b702\"> ━━━━━━━━━━━━━━━━━━━━━━━━━━━━━━━━━━━━━━━━━━━━━━━━━━━━━━</span>\n",
       "</pre>\n"
      ],
      "text/plain": [
       "\u001b[38;2;212;183;2m━━━━━━━━━━━━━━━━━━━━━━━━━━━━━━━━━━━━━━━━━━━━━━━━━━━━━ \u001b[0m\u001b[1mStep 2\u001b[0m\u001b[38;2;212;183;2m ━━━━━━━━━━━━━━━━━━━━━━━━━━━━━━━━━━━━━━━━━━━━━━━━━━━━━━\u001b[0m\n"
      ]
     },
     "metadata": {},
     "output_type": "display_data"
    },
    {
     "data": {
      "application/vnd.jupyter.widget-view+json": {
       "model_id": "af0cb567e66a4d5682e7cbdffb8ac4eb",
       "version_major": 2,
       "version_minor": 0
      },
      "text/plain": [
       "Output()"
      ]
     },
     "metadata": {},
     "output_type": "display_data"
    },
    {
     "data": {
      "text/html": [
       "<pre style=\"white-space:pre;overflow-x:auto;line-height:normal;font-family:Menlo,'DejaVu Sans Mono',consolas,'Courier New',monospace\"></pre>\n"
      ],
      "text/plain": []
     },
     "metadata": {},
     "output_type": "display_data"
    },
    {
     "data": {
      "text/html": [
       "<pre style=\"white-space:pre;overflow-x:auto;line-height:normal;font-family:Menlo,'DejaVu Sans Mono',consolas,'Courier New',monospace\">╭─────────────────────────────────────────────────────────────────────────────────────────────────────────────────╮\n",
       "│ Calling tool: 'read_metadata' with arguments: {'filename': 'metadata.rtf', 'columns': ['column_names']}         │\n",
       "╰─────────────────────────────────────────────────────────────────────────────────────────────────────────────────╯\n",
       "</pre>\n"
      ],
      "text/plain": [
       "╭─────────────────────────────────────────────────────────────────────────────────────────────────────────────────╮\n",
       "│ Calling tool: 'read_metadata' with arguments: {'filename': 'metadata.rtf', 'columns': ['column_names']}         │\n",
       "╰─────────────────────────────────────────────────────────────────────────────────────────────────────────────────╯\n"
      ]
     },
     "metadata": {},
     "output_type": "display_data"
    },
    {
     "data": {
      "text/html": [
       "<pre style=\"white-space:pre;overflow-x:auto;line-height:normal;font-family:Menlo,'DejaVu Sans Mono',consolas,'Courier New',monospace\">Observations: Variable name 'column_names' not found in metadata.\n",
       "</pre>\n"
      ],
      "text/plain": [
       "Observations: Variable name 'column_names' not found in metadata.\n"
      ]
     },
     "metadata": {},
     "output_type": "display_data"
    },
    {
     "data": {
      "text/html": [
       "<pre style=\"white-space:pre;overflow-x:auto;line-height:normal;font-family:Menlo,'DejaVu Sans Mono',consolas,'Courier New',monospace\"><span style=\"color: #7f7f7f; text-decoration-color: #7f7f7f\">[Step 2: Duration 3.13 seconds| Input tokens: 3,747 | Output tokens: 65]</span>\n",
       "</pre>\n"
      ],
      "text/plain": [
       "\u001b[2m[Step 2: Duration 3.13 seconds| Input tokens: 3,747 | Output tokens: 65]\u001b[0m\n"
      ]
     },
     "metadata": {},
     "output_type": "display_data"
    },
    {
     "data": {
      "text/html": [
       "<pre style=\"white-space:pre;overflow-x:auto;line-height:normal;font-family:Menlo,'DejaVu Sans Mono',consolas,'Courier New',monospace\"><span style=\"color: #d4b702; text-decoration-color: #d4b702\">━━━━━━━━━━━━━━━━━━━━━━━━━━━━━━━━━━━━━━━━━━━━━━━━━━━━━ </span><span style=\"font-weight: bold\">Step 3</span><span style=\"color: #d4b702; text-decoration-color: #d4b702\"> ━━━━━━━━━━━━━━━━━━━━━━━━━━━━━━━━━━━━━━━━━━━━━━━━━━━━━━</span>\n",
       "</pre>\n"
      ],
      "text/plain": [
       "\u001b[38;2;212;183;2m━━━━━━━━━━━━━━━━━━━━━━━━━━━━━━━━━━━━━━━━━━━━━━━━━━━━━ \u001b[0m\u001b[1mStep 3\u001b[0m\u001b[38;2;212;183;2m ━━━━━━━━━━━━━━━━━━━━━━━━━━━━━━━━━━━━━━━━━━━━━━━━━━━━━━\u001b[0m\n"
      ]
     },
     "metadata": {},
     "output_type": "display_data"
    },
    {
     "data": {
      "application/vnd.jupyter.widget-view+json": {
       "model_id": "1f7e874174294b51a6049caa3b3367f9",
       "version_major": 2,
       "version_minor": 0
      },
      "text/plain": [
       "Output()"
      ]
     },
     "metadata": {},
     "output_type": "display_data"
    },
    {
     "data": {
      "text/html": [
       "<pre style=\"white-space:pre;overflow-x:auto;line-height:normal;font-family:Menlo,'DejaVu Sans Mono',consolas,'Courier New',monospace\"></pre>\n"
      ],
      "text/plain": []
     },
     "metadata": {},
     "output_type": "display_data"
    },
    {
     "data": {
      "text/html": [
       "<pre style=\"white-space:pre;overflow-x:auto;line-height:normal;font-family:Menlo,'DejaVu Sans Mono',consolas,'Courier New',monospace\">╭─────────────────────────────────────────────────────────────────────────────────────────────────────────────────╮\n",
       "│ Calling tool: 'read_metadata' with arguments: {'filename': 'metadata.rtf', 'columns': ['column_name']}          │\n",
       "╰─────────────────────────────────────────────────────────────────────────────────────────────────────────────────╯\n",
       "</pre>\n"
      ],
      "text/plain": [
       "╭─────────────────────────────────────────────────────────────────────────────────────────────────────────────────╮\n",
       "│ Calling tool: 'read_metadata' with arguments: {'filename': 'metadata.rtf', 'columns': ['column_name']}          │\n",
       "╰─────────────────────────────────────────────────────────────────────────────────────────────────────────────────╯\n"
      ]
     },
     "metadata": {},
     "output_type": "display_data"
    },
    {
     "data": {
      "text/html": [
       "<pre style=\"white-space:pre;overflow-x:auto;line-height:normal;font-family:Menlo,'DejaVu Sans Mono',consolas,'Courier New',monospace\">Observations: Variable name 'column_name' not found in metadata.\n",
       "</pre>\n"
      ],
      "text/plain": [
       "Observations: Variable name 'column_name' not found in metadata.\n"
      ]
     },
     "metadata": {},
     "output_type": "display_data"
    },
    {
     "data": {
      "text/html": [
       "<pre style=\"white-space:pre;overflow-x:auto;line-height:normal;font-family:Menlo,'DejaVu Sans Mono',consolas,'Courier New',monospace\"><span style=\"color: #7f7f7f; text-decoration-color: #7f7f7f\">[Step 3: Duration 3.20 seconds| Input tokens: 5,829 | Output tokens: 95]</span>\n",
       "</pre>\n"
      ],
      "text/plain": [
       "\u001b[2m[Step 3: Duration 3.20 seconds| Input tokens: 5,829 | Output tokens: 95]\u001b[0m\n"
      ]
     },
     "metadata": {},
     "output_type": "display_data"
    },
    {
     "data": {
      "text/html": [
       "<pre style=\"white-space:pre;overflow-x:auto;line-height:normal;font-family:Menlo,'DejaVu Sans Mono',consolas,'Courier New',monospace\"><span style=\"color: #d4b702; text-decoration-color: #d4b702\">━━━━━━━━━━━━━━━━━━━━━━━━━━━━━━━━━━━━━━━━━━━━━━━━━━━━━ </span><span style=\"font-weight: bold\">Step 4</span><span style=\"color: #d4b702; text-decoration-color: #d4b702\"> ━━━━━━━━━━━━━━━━━━━━━━━━━━━━━━━━━━━━━━━━━━━━━━━━━━━━━━</span>\n",
       "</pre>\n"
      ],
      "text/plain": [
       "\u001b[38;2;212;183;2m━━━━━━━━━━━━━━━━━━━━━━━━━━━━━━━━━━━━━━━━━━━━━━━━━━━━━ \u001b[0m\u001b[1mStep 4\u001b[0m\u001b[38;2;212;183;2m ━━━━━━━━━━━━━━━━━━━━━━━━━━━━━━━━━━━━━━━━━━━━━━━━━━━━━━\u001b[0m\n"
      ]
     },
     "metadata": {},
     "output_type": "display_data"
    },
    {
     "data": {
      "application/vnd.jupyter.widget-view+json": {
       "model_id": "834339bac1604ebf80f4fbd1fb6bb3e1",
       "version_major": 2,
       "version_minor": 0
      },
      "text/plain": [
       "Output()"
      ]
     },
     "metadata": {},
     "output_type": "display_data"
    },
    {
     "data": {
      "text/html": [
       "<pre style=\"white-space:pre;overflow-x:auto;line-height:normal;font-family:Menlo,'DejaVu Sans Mono',consolas,'Courier New',monospace\"></pre>\n"
      ],
      "text/plain": []
     },
     "metadata": {},
     "output_type": "display_data"
    },
    {
     "data": {
      "text/html": [
       "<pre style=\"white-space:pre;overflow-x:auto;line-height:normal;font-family:Menlo,'DejaVu Sans Mono',consolas,'Courier New',monospace\">╭─────────────────────────────────────────────────────────────────────────────────────────────────────────────────╮\n",
       "│ Calling tool: 'read_sample_and_summarise' with arguments: {'filename': 'sample_data.tab', 'columns':            │\n",
       "│ ['W9CLENDYR']}                                                                                                  │\n",
       "╰─────────────────────────────────────────────────────────────────────────────────────────────────────────────────╯\n",
       "</pre>\n"
      ],
      "text/plain": [
       "╭─────────────────────────────────────────────────────────────────────────────────────────────────────────────────╮\n",
       "│ Calling tool: 'read_sample_and_summarise' with arguments: {'filename': 'sample_data.tab', 'columns':            │\n",
       "│ ['W9CLENDYR']}                                                                                                  │\n",
       "╰─────────────────────────────────────────────────────────────────────────────────────────────────────────────────╯\n"
      ]
     },
     "metadata": {},
     "output_type": "display_data"
    },
    {
     "data": {
      "text/html": [
       "<pre style=\"white-space:pre;overflow-x:auto;line-height:normal;font-family:Menlo,'DejaVu Sans Mono',consolas,'Courier New',monospace\">Observations: Summary statistics:\n",
       "         W9CLENDYR\n",
       "count    20.000000\n",
       "mean   2017.100000\n",
       "std       3.754296\n",
       "min    2009.000000\n",
       "25%    2014.750000\n",
       "50%    2017.000000\n",
       "75%    2020.000000\n",
       "max    2022.000000\n",
       "\n",
       "Sample:\n",
       "   W9CLENDYR\n",
       "0       2020\n",
       "1       2020\n",
       "2       2015\n",
       "3       2018\n",
       "4       2011\n",
       "</pre>\n"
      ],
      "text/plain": [
       "Observations: Summary statistics:\n",
       "         W9CLENDYR\n",
       "count    20.000000\n",
       "mean   2017.100000\n",
       "std       3.754296\n",
       "min    2009.000000\n",
       "25%    2014.750000\n",
       "50%    2017.000000\n",
       "75%    2020.000000\n",
       "max    2022.000000\n",
       "\n",
       "Sample:\n",
       "   W9CLENDYR\n",
       "0       2020\n",
       "1       2020\n",
       "2       2015\n",
       "3       2018\n",
       "4       2011\n"
      ]
     },
     "metadata": {},
     "output_type": "display_data"
    },
    {
     "data": {
      "text/html": [
       "<pre style=\"white-space:pre;overflow-x:auto;line-height:normal;font-family:Menlo,'DejaVu Sans Mono',consolas,'Courier New',monospace\"><span style=\"color: #7f7f7f; text-decoration-color: #7f7f7f\">[Step 4: Duration 3.66 seconds| Input tokens: 8,045 | Output tokens: 133]</span>\n",
       "</pre>\n"
      ],
      "text/plain": [
       "\u001b[2m[Step 4: Duration 3.66 seconds| Input tokens: 8,045 | Output tokens: 133]\u001b[0m\n"
      ]
     },
     "metadata": {},
     "output_type": "display_data"
    },
    {
     "data": {
      "text/html": [
       "<pre style=\"white-space:pre;overflow-x:auto;line-height:normal;font-family:Menlo,'DejaVu Sans Mono',consolas,'Courier New',monospace\"><span style=\"color: #d4b702; text-decoration-color: #d4b702\">━━━━━━━━━━━━━━━━━━━━━━━━━━━━━━━━━━━━━━━━━━━━━━━━━━━━━ </span><span style=\"font-weight: bold\">Step 5</span><span style=\"color: #d4b702; text-decoration-color: #d4b702\"> ━━━━━━━━━━━━━━━━━━━━━━━━━━━━━━━━━━━━━━━━━━━━━━━━━━━━━━</span>\n",
       "</pre>\n"
      ],
      "text/plain": [
       "\u001b[38;2;212;183;2m━━━━━━━━━━━━━━━━━━━━━━━━━━━━━━━━━━━━━━━━━━━━━━━━━━━━━ \u001b[0m\u001b[1mStep 5\u001b[0m\u001b[38;2;212;183;2m ━━━━━━━━━━━━━━━━━━━━━━━━━━━━━━━━━━━━━━━━━━━━━━━━━━━━━━\u001b[0m\n"
      ]
     },
     "metadata": {},
     "output_type": "display_data"
    },
    {
     "data": {
      "application/vnd.jupyter.widget-view+json": {
       "model_id": "e70f232000604fd0bfcb9a7fb54e4269",
       "version_major": 2,
       "version_minor": 0
      },
      "text/plain": [
       "Output()"
      ]
     },
     "metadata": {},
     "output_type": "display_data"
    },
    {
     "data": {
      "text/html": [
       "<pre style=\"white-space:pre;overflow-x:auto;line-height:normal;font-family:Menlo,'DejaVu Sans Mono',consolas,'Courier New',monospace\"></pre>\n"
      ],
      "text/plain": []
     },
     "metadata": {},
     "output_type": "display_data"
    },
    {
     "data": {
      "text/html": [
       "<pre style=\"white-space:pre;overflow-x:auto;line-height:normal;font-family:Menlo,'DejaVu Sans Mono',consolas,'Courier New',monospace\">╭─────────────────────────────────────────────────────────────────────────────────────────────────────────────────╮\n",
       "│ Calling tool: 'produce_r_script' with arguments: {'rscript': '# Install necessary packages (if not already      │\n",
       "│ installed) - base R only, no external packages needed. The column describes the year of the data. Rename the    │\n",
       "│ column to \\'year\\'.\\n\\n# Read the data\\n\\ndata &lt;- read.table(\"sample_data.tab\", header = TRUE, sep =            │\n",
       "│ \"\\\\t\")\\n\\n# Rename the column\\ncolnames(data) &lt;- c(\"year\")\\n\\n# Save the cleaned data\\nwrite.table(data,        │\n",
       "│ \"clean_sample_data.tab\", sep = \"\\\\t\", row.names = FALSE)\\n'}                                                    │\n",
       "╰─────────────────────────────────────────────────────────────────────────────────────────────────────────────────╯\n",
       "</pre>\n"
      ],
      "text/plain": [
       "╭─────────────────────────────────────────────────────────────────────────────────────────────────────────────────╮\n",
       "│ Calling tool: 'produce_r_script' with arguments: {'rscript': '# Install necessary packages (if not already      │\n",
       "│ installed) - base R only, no external packages needed. The column describes the year of the data. Rename the    │\n",
       "│ column to \\'year\\'.\\n\\n# Read the data\\n\\ndata <- read.table(\"sample_data.tab\", header = TRUE, sep =            │\n",
       "│ \"\\\\t\")\\n\\n# Rename the column\\ncolnames(data) <- c(\"year\")\\n\\n# Save the cleaned data\\nwrite.table(data,        │\n",
       "│ \"clean_sample_data.tab\", sep = \"\\\\t\", row.names = FALSE)\\n'}                                                    │\n",
       "╰─────────────────────────────────────────────────────────────────────────────────────────────────────────────────╯\n"
      ]
     },
     "metadata": {},
     "output_type": "display_data"
    },
    {
     "data": {
      "text/html": [
       "<pre style=\"white-space:pre;overflow-x:auto;line-height:normal;font-family:Menlo,'DejaVu Sans Mono',consolas,'Courier New',monospace\">Observations: STDOUT:\n",
       "\n",
       "\n",
       "STDERR:\n",
       "</pre>\n"
      ],
      "text/plain": [
       "Observations: STDOUT:\n",
       "\n",
       "\n",
       "STDERR:\n"
      ]
     },
     "metadata": {},
     "output_type": "display_data"
    },
    {
     "data": {
      "text/html": [
       "<pre style=\"white-space:pre;overflow-x:auto;line-height:normal;font-family:Menlo,'DejaVu Sans Mono',consolas,'Courier New',monospace\"><span style=\"color: #7f7f7f; text-decoration-color: #7f7f7f\">[Step 5: Duration 12.27 seconds| Input tokens: 10,571 | Output tokens: 282]</span>\n",
       "</pre>\n"
      ],
      "text/plain": [
       "\u001b[2m[Step 5: Duration 12.27 seconds| Input tokens: 10,571 | Output tokens: 282]\u001b[0m\n"
      ]
     },
     "metadata": {},
     "output_type": "display_data"
    },
    {
     "data": {
      "text/html": [
       "<pre style=\"white-space:pre;overflow-x:auto;line-height:normal;font-family:Menlo,'DejaVu Sans Mono',consolas,'Courier New',monospace\"><span style=\"color: #d4b702; text-decoration-color: #d4b702\">━━━━━━━━━━━━━━━━━━━━━━━━━━━━━━━━━━━━━━━━━━━━━━━━━━━━━ </span><span style=\"font-weight: bold\">Step 6</span><span style=\"color: #d4b702; text-decoration-color: #d4b702\"> ━━━━━━━━━━━━━━━━━━━━━━━━━━━━━━━━━━━━━━━━━━━━━━━━━━━━━━</span>\n",
       "</pre>\n"
      ],
      "text/plain": [
       "\u001b[38;2;212;183;2m━━━━━━━━━━━━━━━━━━━━━━━━━━━━━━━━━━━━━━━━━━━━━━━━━━━━━ \u001b[0m\u001b[1mStep 6\u001b[0m\u001b[38;2;212;183;2m ━━━━━━━━━━━━━━━━━━━━━━━━━━━━━━━━━━━━━━━━━━━━━━━━━━━━━━\u001b[0m\n"
      ]
     },
     "metadata": {},
     "output_type": "display_data"
    },
    {
     "data": {
      "application/vnd.jupyter.widget-view+json": {
       "model_id": "b4190b6949a043c7b3a2ed5016420a3c",
       "version_major": 2,
       "version_minor": 0
      },
      "text/plain": [
       "Output()"
      ]
     },
     "metadata": {},
     "output_type": "display_data"
    },
    {
     "data": {
      "text/html": [
       "<pre style=\"white-space:pre;overflow-x:auto;line-height:normal;font-family:Menlo,'DejaVu Sans Mono',consolas,'Courier New',monospace\"></pre>\n"
      ],
      "text/plain": []
     },
     "metadata": {},
     "output_type": "display_data"
    },
    {
     "data": {
      "text/html": [
       "<pre style=\"white-space:pre;overflow-x:auto;line-height:normal;font-family:Menlo,'DejaVu Sans Mono',consolas,'Courier New',monospace\">╭─────────────────────────────────────────────────────────────────────────────────────────────────────────────────╮\n",
       "│ Calling tool: 'final_answer' with arguments: {'answer': 'clean_sample_data.tab'}                                │\n",
       "╰─────────────────────────────────────────────────────────────────────────────────────────────────────────────────╯\n",
       "</pre>\n"
      ],
      "text/plain": [
       "╭─────────────────────────────────────────────────────────────────────────────────────────────────────────────────╮\n",
       "│ Calling tool: 'final_answer' with arguments: {'answer': 'clean_sample_data.tab'}                                │\n",
       "╰─────────────────────────────────────────────────────────────────────────────────────────────────────────────────╯\n"
      ]
     },
     "metadata": {},
     "output_type": "display_data"
    },
    {
     "data": {
      "text/html": [
       "<pre style=\"white-space:pre;overflow-x:auto;line-height:normal;font-family:Menlo,'DejaVu Sans Mono',consolas,'Courier New',monospace\">Observations: clean_sample_data.tab\n",
       "</pre>\n"
      ],
      "text/plain": [
       "Observations: clean_sample_data.tab\n"
      ]
     },
     "metadata": {},
     "output_type": "display_data"
    },
    {
     "data": {
      "text/html": [
       "<pre style=\"white-space:pre;overflow-x:auto;line-height:normal;font-family:Menlo,'DejaVu Sans Mono',consolas,'Courier New',monospace\"><span style=\"color: #d4b702; text-decoration-color: #d4b702; font-weight: bold\">Final answer: clean_sample_data.tab</span>\n",
       "</pre>\n"
      ],
      "text/plain": [
       "\u001b[1;38;2;212;183;2mFinal answer: clean_sample_data.tab\u001b[0m\n"
      ]
     },
     "metadata": {},
     "output_type": "display_data"
    },
    {
     "data": {
      "text/html": [
       "<pre style=\"white-space:pre;overflow-x:auto;line-height:normal;font-family:Menlo,'DejaVu Sans Mono',consolas,'Courier New',monospace\"><span style=\"color: #7f7f7f; text-decoration-color: #7f7f7f\">[Step 6: Duration 3.16 seconds| Input tokens: 13,465 | Output tokens: 306]</span>\n",
       "</pre>\n"
      ],
      "text/plain": [
       "\u001b[2m[Step 6: Duration 3.16 seconds| Input tokens: 13,465 | Output tokens: 306]\u001b[0m\n"
      ]
     },
     "metadata": {},
     "output_type": "display_data"
    },
    {
     "data": {
      "text/plain": [
       "'clean_sample_data.tab'"
      ]
     },
     "execution_count": 3,
     "metadata": {},
     "output_type": "execute_result"
    }
   ],
   "source": [
    "from smolagents import LiteLLMModel, ToolCallingAgent\n",
    "\n",
    "# Ensure you have ollama running with the correct model downloaded\n",
    "model=LiteLLMModel(model_id=\"ollama_chat/gemma3:12b\", api_key=\"ollama\")\n",
    "\n",
    "# Not the use of the sampling tools and metadata tools could be replaced by programitcally embedding them in the prompt\n",
    "agent = ToolCallingAgent(\n",
    "    tools=[read_metadata, read_sample_and_summarise, produce_r_script],\n",
    "    model=model,\n",
    "    stream_outputs=True,\n",
    ")\n",
    "\n",
    "columns = [\"W9CLENDYR\"]\n",
    "\n",
    "task = f\"\"\"Your task is preprocess the dataset so that it is clean and ready for epidemiological analysis.\n",
    "\n",
    "The dataset can be found in the file 'sample_data.tab'.\n",
    "\n",
    "And the metadata can be found in the file 'metadata.rtf'.\n",
    "\n",
    "I want the R script to do the following:\n",
    "\n",
    "- Only preprocess the columns \"{columns}\". \n",
    "- Use only base R functions\n",
    "- Include installs for all required packages\n",
    "- Saves the cleaned data to a new file called 'clean_{{filename}}'.\n",
    "\n",
    "The script should look like this:\n",
    "# imports\n",
    "```all imports here```\n",
    "# data cleaning steps\n",
    "```all data cleaning steps here```\n",
    "# save cleaned data\n",
    "```all data saving steps here```\n",
    "\n",
    "\n",
    "IMPORTANT: sample the data and read the metadata to inform how you preprocess the data giving the column a new and more useful name.\n",
    "\n",
    "If the R script has errors fix them and re-run the script until it runs without error.\n",
    "\"\"\"\n",
    "\n",
    "agent.run(task)\n"
   ]
  },
  {
   "cell_type": "code",
   "execution_count": 4,
   "id": "4bbedf29",
   "metadata": {},
   "outputs": [],
   "source": [
    "# read in th"
   ]
  },
  {
   "cell_type": "markdown",
   "id": "c387b86f",
   "metadata": {},
   "source": []
  }
 ],
 "metadata": {
  "kernelspec": {
   "display_name": "env",
   "language": "python",
   "name": "python3"
  },
  "language_info": {
   "codemirror_mode": {
    "name": "ipython",
    "version": 3
   },
   "file_extension": ".py",
   "mimetype": "text/x-python",
   "name": "python",
   "nbconvert_exporter": "python",
   "pygments_lexer": "ipython3",
   "version": "3.13.7"
  }
 },
 "nbformat": 4,
 "nbformat_minor": 5
}
